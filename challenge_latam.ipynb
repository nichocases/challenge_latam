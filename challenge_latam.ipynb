{
  "nbformat": 4,
  "nbformat_minor": 0,
  "metadata": {
    "colab": {
      "provenance": [],
      "authorship_tag": "ABX9TyPLhQ+dBLH1oPFCXRMutmCB",
      "include_colab_link": true
    },
    "kernelspec": {
      "name": "python3",
      "display_name": "Python 3"
    },
    "language_info": {
      "name": "python"
    }
  },
  "cells": [
    {
      "cell_type": "markdown",
      "metadata": {
        "id": "view-in-github",
        "colab_type": "text"
      },
      "source": [
        "<a href=\"https://colab.research.google.com/github/nichocases/challenge_latam/blob/main/challenge_latam.ipynb\" target=\"_parent\"><img src=\"https://colab.research.google.com/assets/colab-badge.svg\" alt=\"Open In Colab\"/></a>"
      ]
    },
    {
      "cell_type": "markdown",
      "source": [
        "Para iniciar el challenge primero se cargará el archivo enviado con el fin de identificarlo y trabajar sobre el mismo"
      ],
      "metadata": {
        "id": "qKKcCUWnDjXv"
      }
    },
    {
      "cell_type": "code",
      "source": [
        "import json\n",
        "import pandas as pd"
      ],
      "metadata": {
        "id": "MpiCFPt2UsfX"
      },
      "execution_count": 41,
      "outputs": []
    },
    {
      "cell_type": "code",
      "source": [
        "#Se busca leer el archivo\n",
        "tweets = []\n",
        "\n",
        "with open(\"/farmers-protest-tweets-2021-2-42.json\", \"r\") as file:\n",
        "    for line in file:\n",
        "        try:\n",
        "            tweet = json.loads(line)\n",
        "            tweets.append(tweet)\n",
        "        except json.JSONDecodeError:\n",
        "            pass\n",
        "\n",
        "\n",
        "#se leen las primeras par ver la estructura y compararla contra la indicada en el enlace\n",
        "tweets_sample = tweets[:1]\n",
        "tweets_sample\n"
      ],
      "metadata": {
        "id": "vownKmYEMT7l",
        "outputId": "3bd7825e-ad17-46a8-b2e7-6db8ec4b3f04",
        "colab": {
          "base_uri": "https://localhost:8080/"
        }
      },
      "execution_count": 65,
      "outputs": [
        {
          "output_type": "execute_result",
          "data": {
            "text/plain": [
              "[{'url': 'https://twitter.com/ArjunSinghPanam/status/1364506249291784198',\n",
              "  'date': '2021-02-24T09:23:35+00:00',\n",
              "  'content': 'The world progresses while the Indian police and Govt are still trying to take India back to the horrific past through its tyranny. \\n\\n@narendramodi @DelhiPolice Shame on you. \\n\\n#ModiDontSellFarmers \\n#FarmersProtest \\n#FreeNodeepKaur https://t.co/es3kn0IQAF',\n",
              "  'renderedContent': 'The world progresses while the Indian police and Govt are still trying to take India back to the horrific past through its tyranny. \\n\\n@narendramodi @DelhiPolice Shame on you. \\n\\n#ModiDontSellFarmers \\n#FarmersProtest \\n#FreeNodeepKaur twitter.com/ravisinghka/st…',\n",
              "  'id': 1364506249291784198,\n",
              "  'user': {'username': 'ArjunSinghPanam',\n",
              "   'displayname': 'Arjun Singh Panam',\n",
              "   'id': 45091142,\n",
              "   'description': 'Global Citizen, Actor, Director: Sky is the roof above my head, the world is the road I travel, love is my food & mother earth is my bed. Roy in @CosmosMovie',\n",
              "   'rawDescription': 'Global Citizen, Actor, Director: Sky is the roof above my head, the world is the road I travel, love is my food & mother earth is my bed. Roy in @CosmosMovie',\n",
              "   'descriptionUrls': [],\n",
              "   'verified': False,\n",
              "   'created': '2009-06-06T07:50:57+00:00',\n",
              "   'followersCount': 603,\n",
              "   'friendsCount': 311,\n",
              "   'statusesCount': 17534,\n",
              "   'favouritesCount': 4269,\n",
              "   'listedCount': 23,\n",
              "   'mediaCount': 1211,\n",
              "   'location': '',\n",
              "   'protected': False,\n",
              "   'linkUrl': 'https://www.cosmosmovieofficial.com',\n",
              "   'linkTcourl': 'https://t.co/3uaoV3gCt3',\n",
              "   'profileImageUrl': 'https://pbs.twimg.com/profile_images/1215541746492461056/3De61YoQ_normal.jpg',\n",
              "   'profileBannerUrl': 'https://pbs.twimg.com/profile_banners/45091142/1612601766',\n",
              "   'url': 'https://twitter.com/ArjunSinghPanam'},\n",
              "  'outlinks': ['https://twitter.com/ravisinghka/status/1364150844757860352'],\n",
              "  'tcooutlinks': ['https://t.co/es3kn0IQAF'],\n",
              "  'replyCount': 0,\n",
              "  'retweetCount': 0,\n",
              "  'likeCount': 0,\n",
              "  'quoteCount': 0,\n",
              "  'conversationId': 1364506249291784198,\n",
              "  'lang': 'en',\n",
              "  'source': '<a href=\"http://twitter.com/download/iphone\" rel=\"nofollow\">Twitter for iPhone</a>',\n",
              "  'sourceUrl': 'http://twitter.com/download/iphone',\n",
              "  'sourceLabel': 'Twitter for iPhone',\n",
              "  'media': None,\n",
              "  'retweetedTweet': None,\n",
              "  'quotedTweet': {'url': 'https://twitter.com/RaviSinghKA/status/1364150844757860352',\n",
              "   'date': '2021-02-23T09:51:20+00:00',\n",
              "   'content': 'This is what the indian police are good at, beating &amp; raping women ! @police_haryana @DelhiPolice \\n\\nhttps://t.co/mj1qzF7nGh',\n",
              "   'renderedContent': 'This is what the indian police are good at, beating &amp; raping women ! @police_haryana @DelhiPolice \\n\\ngoogle.co.uk/amp/s/m.timeso…',\n",
              "   'id': 1364150844757860352,\n",
              "   'user': {'username': 'RaviSinghKA',\n",
              "    'displayname': 'ravinder singh',\n",
              "    'id': 2347762888,\n",
              "    'description': 'Founder/CEO of Khalsa Aid, Sikh,philanthropist, 20 Years of coordinating aid,humanitarian & passionate about human rights.All views my own:Inc working in Iraq',\n",
              "    'rawDescription': 'Founder/CEO of Khalsa Aid, Sikh,philanthropist, 20 Years of coordinating aid,humanitarian & passionate about human rights.All views my own:Inc working in Iraq',\n",
              "    'descriptionUrls': [],\n",
              "    'verified': False,\n",
              "    'created': '2014-02-16T23:38:54+00:00',\n",
              "    'followersCount': 227423,\n",
              "    'friendsCount': 4042,\n",
              "    'statusesCount': 38683,\n",
              "    'favouritesCount': 30134,\n",
              "    'listedCount': 212,\n",
              "    'mediaCount': 4944,\n",
              "    'location': 'Slough, England ',\n",
              "    'protected': False,\n",
              "    'linkUrl': 'http://www.khalsaaid.org',\n",
              "    'linkTcourl': 'https://t.co/cgdi8BLkK2',\n",
              "    'profileImageUrl': 'https://pbs.twimg.com/profile_images/686526444642643968/bnCPdE7N_normal.jpg',\n",
              "    'profileBannerUrl': 'https://pbs.twimg.com/profile_banners/2347762888/1591307489',\n",
              "    'url': 'https://twitter.com/RaviSinghKA'},\n",
              "   'outlinks': ['https://www.google.co.uk/amp/s/m.timesofindia.com/city/chandigarh/was-brutally-thrashed-in-thana-nodeep-kaur-tells-punjab-and-haryana-high-court/amp_articleshow/81164092.cms'],\n",
              "   'tcooutlinks': ['https://t.co/mj1qzF7nGh'],\n",
              "   'replyCount': 66,\n",
              "   'retweetCount': 744,\n",
              "   'likeCount': 1939,\n",
              "   'quoteCount': 59,\n",
              "   'conversationId': 1364150844757860352,\n",
              "   'lang': 'en',\n",
              "   'source': '<a href=\"http://twitter.com/download/iphone\" rel=\"nofollow\">Twitter for iPhone</a>',\n",
              "   'sourceUrl': 'http://twitter.com/download/iphone',\n",
              "   'sourceLabel': 'Twitter for iPhone',\n",
              "   'media': None,\n",
              "   'retweetedTweet': None,\n",
              "   'quotedTweet': None,\n",
              "   'mentionedUsers': [{'username': 'police_haryana',\n",
              "     'displayname': 'Haryana Police',\n",
              "     'id': 887564756629966848,\n",
              "     'description': None,\n",
              "     'rawDescription': None,\n",
              "     'descriptionUrls': None,\n",
              "     'verified': None,\n",
              "     'created': None,\n",
              "     'followersCount': None,\n",
              "     'friendsCount': None,\n",
              "     'statusesCount': None,\n",
              "     'favouritesCount': None,\n",
              "     'listedCount': None,\n",
              "     'mediaCount': None,\n",
              "     'location': None,\n",
              "     'protected': None,\n",
              "     'linkUrl': None,\n",
              "     'linkTcourl': None,\n",
              "     'profileImageUrl': None,\n",
              "     'profileBannerUrl': None,\n",
              "     'url': 'https://twitter.com/police_haryana'},\n",
              "    {'username': 'DelhiPolice',\n",
              "     'displayname': '#DilKiPolice Delhi Police',\n",
              "     'id': 1850705408,\n",
              "     'description': None,\n",
              "     'rawDescription': None,\n",
              "     'descriptionUrls': None,\n",
              "     'verified': None,\n",
              "     'created': None,\n",
              "     'followersCount': None,\n",
              "     'friendsCount': None,\n",
              "     'statusesCount': None,\n",
              "     'favouritesCount': None,\n",
              "     'listedCount': None,\n",
              "     'mediaCount': None,\n",
              "     'location': None,\n",
              "     'protected': None,\n",
              "     'linkUrl': None,\n",
              "     'linkTcourl': None,\n",
              "     'profileImageUrl': None,\n",
              "     'profileBannerUrl': None,\n",
              "     'url': 'https://twitter.com/DelhiPolice'}]},\n",
              "  'mentionedUsers': [{'username': 'narendramodi',\n",
              "    'displayname': 'Narendra Modi',\n",
              "    'id': 18839785,\n",
              "    'description': None,\n",
              "    'rawDescription': None,\n",
              "    'descriptionUrls': None,\n",
              "    'verified': None,\n",
              "    'created': None,\n",
              "    'followersCount': None,\n",
              "    'friendsCount': None,\n",
              "    'statusesCount': None,\n",
              "    'favouritesCount': None,\n",
              "    'listedCount': None,\n",
              "    'mediaCount': None,\n",
              "    'location': None,\n",
              "    'protected': None,\n",
              "    'linkUrl': None,\n",
              "    'linkTcourl': None,\n",
              "    'profileImageUrl': None,\n",
              "    'profileBannerUrl': None,\n",
              "    'url': 'https://twitter.com/narendramodi'},\n",
              "   {'username': 'DelhiPolice',\n",
              "    'displayname': '#DilKiPolice Delhi Police',\n",
              "    'id': 1850705408,\n",
              "    'description': None,\n",
              "    'rawDescription': None,\n",
              "    'descriptionUrls': None,\n",
              "    'verified': None,\n",
              "    'created': None,\n",
              "    'followersCount': None,\n",
              "    'friendsCount': None,\n",
              "    'statusesCount': None,\n",
              "    'favouritesCount': None,\n",
              "    'listedCount': None,\n",
              "    'mediaCount': None,\n",
              "    'location': None,\n",
              "    'protected': None,\n",
              "    'linkUrl': None,\n",
              "    'linkTcourl': None,\n",
              "    'profileImageUrl': None,\n",
              "    'profileBannerUrl': None,\n",
              "    'url': 'https://twitter.com/DelhiPolice'}]}]"
            ]
          },
          "metadata": {},
          "execution_count": 65
        }
      ]
    },
    {
      "cell_type": "markdown",
      "source": [
        "# ***Los top 10 tweets más retweeted.***"
      ],
      "metadata": {
        "id": "qza6M88EZ2Oq"
      }
    },
    {
      "cell_type": "code",
      "source": [
        "\n",
        "#identificando los tweets retweeteados\n",
        "retweet_counts = [tweet['retweetCount'] for tweet in tweets]\n",
        "\n",
        "#identificando el texto que trae el tweet\n",
        "tweet_texts = [tweet['user']['description'] for tweet in tweets]\n",
        "\n",
        "# obteniendo  los indices de los retweeteados\n",
        "top_10_indices = sorted(range(len(retweet_counts)), key=lambda i: retweet_counts[i], reverse=True)[:10]\n",
        "\n",
        "# obteniendo el texto de los top 10\n",
        "top_10_retweeted_texts = [tweet_texts[i] for i in top_10_indices]\n",
        "top_10_retweeted_texts\n"
      ],
      "metadata": {
        "id": "CoEKynsRJ3CX",
        "outputId": "4d4b971b-0e99-477e-de5b-651f3b01577b",
        "colab": {
          "base_uri": "https://localhost:8080/"
        }
      },
      "execution_count": 39,
      "outputs": [
        {
          "output_type": "execute_result",
          "data": {
            "text/plain": [
              "['Official Twitter Handle, Farmer leader & National spokesperson of Bhartiya Kisan Union ( BKU ) @OfficialBKU',\n",
              " 'YouTuber: 4 million+ subs⚡️Activism for a better world • Traveller • Politically Centrist • Vegetarian • Be the change you want to see',\n",
              " 'my 3rd book ‘home body’ is available everywhere books are sold',\n",
              " '|| Author || Born and Raised up in Kashmir || Upcoming Book- ‘Growing up on the right side of Kashmir History’',\n",
              " 'Sikh-American #neverforget1984 farmersprotest.carrd.co || farmerprotests.carrd.co',\n",
              " 'my 3rd book ‘home body’ is available everywhere books are sold',\n",
              " 'Founder/CEO of Khalsa Aid, Sikh,philanthropist, 20 Years of coordinating aid,humanitarian & passionate about human rights.All views my own:Inc working in Iraq',\n",
              " 'Master of All Trades, jack of none, All-in-One;Son of my soil;Former Cabinet Minister Punjab;4term MP;Cricketer;Commentator; Motivational Speaker;TV Personality',\n",
              " 'Master of All Trades, jack of none, All-in-One;Son of my soil;Former Cabinet Minister Punjab;4term MP;Cricketer;Commentator; Motivational Speaker;TV Personality',\n",
              " 'Master of All Trades, jack of none, All-in-One;Son of my soil;Former Cabinet Minister Punjab;4term MP;Cricketer;Commentator; Motivational Speaker;TV Personality']"
            ]
          },
          "metadata": {},
          "execution_count": 39
        }
      ]
    },
    {
      "cell_type": "markdown",
      "source": [],
      "metadata": {
        "id": "H9t-8Sj7aBFt"
      }
    },
    {
      "cell_type": "markdown",
      "source": [
        "# ***Los top 10 users en función a la cantidad de tweets que emitieron.***"
      ],
      "metadata": {
        "id": "S8sbqnNMaEdl"
      }
    },
    {
      "cell_type": "code",
      "source": [
        "# Creando un diccionario para contar la cantidad de tweets por usuario\n",
        "user_tweet_count_updated = {}\n",
        "\n",
        "for tweet in tweets:\n",
        "    user = tweet[\"user\"][\"username\"]\n",
        "    if user in user_tweet_count_updated:\n",
        "        user_tweet_count_updated[user] += 1\n",
        "    else:\n",
        "        user_tweet_count_updated[user] = 1\n",
        "\n",
        "# Ordenando el diccionario por la cantidad de tweets y obteniendo los top 10 usuarios\n",
        "top_10_users_by_tweet_count_updated = sorted(user_tweet_count_updated.items(), key=lambda x: x[1], reverse=True)[:10]\n",
        "top_10_users_by_tweet_count_updated"
      ],
      "metadata": {
        "id": "ub5vbF-RZ1Ap",
        "outputId": "d962d0d2-b5f2-44b1-e7a5-bc735b0db5fa",
        "colab": {
          "base_uri": "https://localhost:8080/"
        }
      },
      "execution_count": 45,
      "outputs": [
        {
          "output_type": "execute_result",
          "data": {
            "text/plain": [
              "[('jot__b', 1019),\n",
              " ('rebelpacifist', 850),\n",
              " ('MaanDee08215437', 830),\n",
              " ('Gurpreetd86', 636),\n",
              " ('GurmVicky', 597),\n",
              " ('shells_n_petals', 576),\n",
              " ('preetysaini321', 573),\n",
              " ('ish_kayy', 515),\n",
              " ('KaurDosanjh1979', 512),\n",
              " ('DigitalKisanBot', 490)]"
            ]
          },
          "metadata": {},
          "execution_count": 45
        }
      ]
    },
    {
      "cell_type": "markdown",
      "source": [
        "# ***Los top 10 días donde hay más tweets.***"
      ],
      "metadata": {
        "id": "Ra19bsckeegj"
      }
    },
    {
      "cell_type": "code",
      "source": [
        "# Convertimos la lista de tweets en un DataFrame\n",
        "df_tweets = pd.DataFrame(tweets)\n",
        "\n",
        "# Creamos una nueva columna 'date_parsed' basada en la columna 'date'\n",
        "df_tweets[\"date_parsed\"] = pd.to_datetime(df_tweets[\"date\"])\n",
        "\n",
        "# Convertimos la columna 'date' a un tipo de datos datetime\n",
        "df_tweets['date'] = pd.to_datetime(df_tweets['date'])\n",
        "\n",
        "# Agrupamos por la fecha (sin considerar la hora) y contamos la cantidad de tweets por día\n",
        "tweets_by_day = df_tweets.groupby(df_tweets['date'].dt.date).size()\n",
        "\n",
        "# Obtenemos los top 10 días con más tweets\n",
        "top_10_days = tweets_by_day.sort_values(ascending=False).head(10)\n",
        "top_10_days"
      ],
      "metadata": {
        "id": "7QXnyGqReMX0",
        "outputId": "4caf809f-4df6-44ac-aad1-6d1366ae7d83",
        "colab": {
          "base_uri": "https://localhost:8080/"
        }
      },
      "execution_count": 52,
      "outputs": [
        {
          "output_type": "execute_result",
          "data": {
            "text/plain": [
              "date\n",
              "2021-02-12    12347\n",
              "2021-02-13    11296\n",
              "2021-02-17    11087\n",
              "2021-02-16    10443\n",
              "2021-02-14    10249\n",
              "2021-02-18     9625\n",
              "2021-02-15     9197\n",
              "2021-02-20     8502\n",
              "2021-02-23     8417\n",
              "2021-02-19     8204\n",
              "dtype: int64"
            ]
          },
          "metadata": {},
          "execution_count": 52
        }
      ]
    },
    {
      "cell_type": "markdown",
      "source": [
        "# ***Los top 10 hashtags más usados.***"
      ],
      "metadata": {
        "id": "uc1Pgvx5id9N"
      }
    },
    {
      "cell_type": "code",
      "source": [
        "#se intentara utilizar un regex\n",
        "import re\n",
        "\n",
        "# Extraemos los hashtags del campo 'content'\n",
        "hashtags_list = df_tweets['content'].apply(lambda x: re.findall(r\"#(\\w+)\", x)).tolist()\n",
        "\n",
        "# Aplanamos la lista de hashtags (convertimos la lista de listas en una sola lista)\n",
        "all_hashtags = [hashtag for sublist in hashtags_list for hashtag in sublist]\n",
        "\n",
        "\n",
        "# Contamos la ocurrencia de cada hashtag\n",
        "hashtags_count = pd.Series(all_hashtags).value_counts()\n",
        "\n",
        "# Obtenemos los top 10 hashtags más utilizados\n",
        "top_10_hashtags = hashtags_count.head(10)\n",
        "top_10_hashtags"
      ],
      "metadata": {
        "id": "0HPhW25dikGU",
        "outputId": "d39dfc61-7bc0-4df7-cfe8-31634e1b4015",
        "colab": {
          "base_uri": "https://localhost:8080/"
        }
      },
      "execution_count": 54,
      "outputs": [
        {
          "output_type": "execute_result",
          "data": {
            "text/plain": [
              "FarmersProtest             112630\n",
              "ReleaseDetainedFarmers       5987\n",
              "FarmersMakeIndia             5263\n",
              "farmersprotest               5105\n",
              "MahapanchayatRevolution      4735\n",
              "RepealOnlyWayAhead           4511\n",
              "IndiaBeingSilenced           4332\n",
              "FarmersProtests              3661\n",
              "Pagdi_Sambhal_Jatta          3542\n",
              "DishaRavi                    3017\n",
              "dtype: int64"
            ]
          },
          "metadata": {},
          "execution_count": 54
        }
      ]
    },
    {
      "cell_type": "markdown",
      "source": [
        "# ***Los top 10 emojis más usados.***"
      ],
      "metadata": {
        "id": "1-qRivt_j-Yy"
      }
    },
    {
      "cell_type": "code",
      "source": [
        "#se busco el codigo de los emojis mas comunes\n",
        "# Expresión regular para identificar la mayoría de los emojis comunes\n",
        "emoji_pattern = re.compile(\"[\"\n",
        "                           u\"\\U0001F600-\\U0001F64F\"  # emoticons\n",
        "                           u\"\\U0001F300-\\U0001F5FF\"  # symbols & pictographs\n",
        "                           u\"\\U0001F680-\\U0001F6FF\"  # transport & map symbols\n",
        "                           u\"\\U0001F700-\\U0001F77F\"  # alchemical symbols\n",
        "                           u\"\\U0001F780-\\U0001F7FF\"  # Geometric Shapes Extended\n",
        "                           u\"\\U0001F800-\\U0001F8FF\"  # Supplemental Arrows-C\n",
        "                           u\"\\U0001F900-\\U0001F9FF\"  # Supplemental Symbols and Pictographs\n",
        "                           u\"\\U0001FA00-\\U0001FA6F\"  # Chess Symbols\n",
        "                           u\"\\U0001FA70-\\U0001FAFF\"  # Symbols and Pictographs Extended-A\n",
        "                           u\"\\U00002702-\\U000027B0\"  # Dingbats\n",
        "                           \"]+\", flags=re.UNICODE)\n",
        "\n",
        "# Extraemos los emojis del campo 'content'\n",
        "emojis_list = df_tweets['content'].apply(lambda x: emoji_pattern.findall(x)).tolist()\n",
        "\n",
        "# Aplanamos la lista de emojis\n",
        "all_emojis = [emoji_char for sublist in emojis_list for emoji_char in sublist]\n",
        "\n",
        "# Contamos la ocurrencia de cada emoji\n",
        "emojis_count = pd.Series(all_emojis).value_counts()\n",
        "\n",
        "# Obtenemos los top 10 emojis más utilizados\n",
        "top_10_emojis = emojis_count.head(10)\n",
        "top_10_emojis\n"
      ],
      "metadata": {
        "id": "QfIEDfnJkAzS",
        "outputId": "874f85da-d8a8-41d7-e54a-ed997184c978",
        "colab": {
          "base_uri": "https://localhost:8080/"
        }
      },
      "execution_count": 59,
      "outputs": [
        {
          "output_type": "execute_result",
          "data": {
            "text/plain": [
              "🙏     2001\n",
              "❤     1402\n",
              "🌾      545\n",
              "💚      498\n",
              "😂      488\n",
              "👍      461\n",
              "👉      450\n",
              "✊      436\n",
              "🙏🙏     406\n",
              "👇      375\n",
              "dtype: int64"
            ]
          },
          "metadata": {},
          "execution_count": 59
        }
      ]
    },
    {
      "cell_type": "markdown",
      "source": [
        "# ***Los top 10 users más influyentes en función de lo retweeted de sus tweets.***"
      ],
      "metadata": {
        "id": "_91iL-x4mJUe"
      }
    },
    {
      "cell_type": "code",
      "source": [
        "# Extrayendo el nombre de pantalla del usuario\n",
        "df_tweets[\"screen_name\"] = df_tweets[\"user\"].apply(lambda x: x[\"username\"] if isinstance(x, dict) else None)\n",
        "\n",
        "# Agrupando por usuario y sumando el número total de retweets que recibieron sus tweets\n",
        "users_retweets = df_tweets.groupby(\"screen_name\")[\"retweetCount\"].sum()\n",
        "\n",
        "# Ordenando los usuarios en función del número total de retweets y seleccionando los top 10\n",
        "top_10_influential_users = users_retweets.sort_values(ascending=False).head(10)\n",
        "top_10_influential_users"
      ],
      "metadata": {
        "id": "bxe5qjGBkePi",
        "outputId": "cad05d9e-247b-447b-d2a0-d8989108cc36",
        "colab": {
          "base_uri": "https://localhost:8080/"
        }
      },
      "execution_count": 62,
      "outputs": [
        {
          "output_type": "execute_result",
          "data": {
            "text/plain": [
              "screen_name\n",
              "amaanbali          26354\n",
              "saahilmenghani     23288\n",
              "RaviSinghKA        22974\n",
              "sherryontopp       19175\n",
              "RakeshTikaitBKU    12001\n",
              "rupikaur_          11420\n",
              "news24tvchannel    10960\n",
              "iMani_KaurRai      10636\n",
              "Monica_Gill1        8593\n",
              "bhupenderc19        7360\n",
              "Name: retweetCount, dtype: int64"
            ]
          },
          "metadata": {},
          "execution_count": 62
        }
      ]
    }
  ]
}